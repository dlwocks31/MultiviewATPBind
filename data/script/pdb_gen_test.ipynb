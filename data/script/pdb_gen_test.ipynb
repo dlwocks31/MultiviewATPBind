{
 "cells": [
  {
   "cell_type": "code",
   "execution_count": 1,
   "metadata": {},
   "outputs": [
    {
     "name": "stderr",
     "output_type": "stream",
     "text": [
      "Loading PDB files: 100%|██████████| 435/435 [00:38<00:00, 11.24it/s]\n"
     ]
    }
   ],
   "source": [
    "import os\n",
    "from torchdrug import data\n",
    "\n",
    "atp_folder = '../atp'\n",
    "\n",
    "failed_to_load = []\n",
    "\n",
    "from tqdm import tqdm\n",
    "\n",
    "for filename in tqdm(os.listdir(atp_folder), desc=\"Loading PDB files\"):\n",
    "    if filename.endswith('.pdb'):\n",
    "        file_path = os.path.join(atp_folder, filename)\n",
    "        try:\n",
    "            protein = data.Protein.from_pdb(file_path)\n",
    "        except Exception as e:\n",
    "            failed_to_load.append(filename)"
   ]
  },
  {
   "cell_type": "code",
   "execution_count": 6,
   "metadata": {},
   "outputs": [
    {
     "name": "stdout",
     "output_type": "stream",
     "text": [
      "\n",
      "PDB files that failed to load (sorted by file size):\n"
     ]
    }
   ],
   "source": [
    "def remove_chain(file_name):\n",
    "    pdb_id = file_name.split('.')[0]\n",
    "    return pdb_id[:-1] + '.pdb'\n",
    "\n",
    "print(\"\\nPDB files that failed to load (sorted by file size):\")\n",
    "failed_files = [\n",
    "    (file, \n",
    "     os.path.getsize(os.path.join(atp_folder, file)), \n",
    "     os.path.getsize(os.path.join('../pdb_tmp', remove_chain(file))))\n",
    "    for file in failed_to_load]\n",
    "failed_files.sort(key=lambda x: x[1])  # Sort by file size\n",
    "\n",
    "for file, size, size_before in failed_files:\n",
    "    print(f\"{file}: File size = {size} bytes (before: {size_before} bytes)\")"
   ]
  },
  {
   "cell_type": "code",
   "execution_count": 7,
   "metadata": {},
   "outputs": [],
   "source": [
    "for filename in failed_to_load:\n",
    "    try:\n",
    "        protein = data.Protein.from_pdb(f'{atp_folder}/{filename}')\n",
    "    except Exception as e:\n",
    "        print(f\"Failed to load: {filename}, error: {e}\")"
   ]
  },
  {
   "cell_type": "code",
   "execution_count": 8,
   "metadata": {},
   "outputs": [
    {
     "ename": "ModuleNotFoundError",
     "evalue": "No module named 'data.script'",
     "output_type": "error",
     "traceback": [
      "\u001b[0;31m---------------------------------------------------------------------------\u001b[0m",
      "\u001b[0;31mModuleNotFoundError\u001b[0m                       Traceback (most recent call last)",
      "Cell \u001b[0;32mIn[8], line 3\u001b[0m\n\u001b[1;32m      1\u001b[0m unmatched_proteins \u001b[38;5;241m=\u001b[39m [\u001b[38;5;124m'\u001b[39m\u001b[38;5;124m5J1SB\u001b[39m\u001b[38;5;124m'\u001b[39m, \u001b[38;5;124m'\u001b[39m\u001b[38;5;124m4TU0A\u001b[39m\u001b[38;5;124m'\u001b[39m, \u001b[38;5;124m'\u001b[39m\u001b[38;5;124m3BG5A\u001b[39m\u001b[38;5;124m'\u001b[39m]\n\u001b[0;32m----> 3\u001b[0m \u001b[38;5;28;01mfrom\u001b[39;00m \u001b[38;5;21;01mdata\u001b[39;00m\u001b[38;5;21;01m.\u001b[39;00m\u001b[38;5;21;01mscript\u001b[39;00m\u001b[38;5;21;01m.\u001b[39;00m\u001b[38;5;21;01mgenerate_pdb\u001b[39;00m \u001b[38;5;28;01mimport\u001b[39;00m read_file, try_loading_pdb\n\u001b[1;32m      4\u001b[0m \u001b[38;5;28;01mfrom\u001b[39;00m \u001b[38;5;21;01mtorchdrug\u001b[39;00m \u001b[38;5;28;01mimport\u001b[39;00m utils, layers, data\n\u001b[1;32m      5\u001b[0m \u001b[38;5;28;01mfrom\u001b[39;00m \u001b[38;5;21;01mtorchdrug\u001b[39;00m\u001b[38;5;21;01m.\u001b[39;00m\u001b[38;5;21;01mlayers\u001b[39;00m \u001b[38;5;28;01mimport\u001b[39;00m geometry\n",
      "\u001b[0;31mModuleNotFoundError\u001b[0m: No module named 'data.script'"
     ]
    }
   ],
   "source": [
    "unmatched_proteins = ['5J1SB', '4TU0A', '3BG5A']\n",
    "\n",
    "from data.script.generate_pdb import read_file, try_loading_pdb\n",
    "from torchdrug import utils, layers, data\n",
    "from torchdrug.layers import geometry\n",
    "\n",
    "def validate_unmatched(pdb_ids):\n",
    "    _, sequences, _, _ = read_file(os.path.join(atp_folder, 'train.txt'))\n",
    "    \n",
    "    for pdb_id in pdb_ids:\n",
    "        print(f'Validating {pdb_id}...')\n",
    "        file_path = os.path.join(atp_folder, f'{pdb_id}.pdb')\n",
    "        protein = try_loading_pdb(file_path)\n",
    "        if not protein:\n",
    "            print(f'{pdb_id}: error: protein not loaded')\n",
    "            continue\n",
    "\n",
    "        sequence = next(seq for seq, id in zip(sequences, _) if id == pdb_id)\n",
    "\n",
    "        # Get sequence from protein after graph construction model leaving only alpha carbon nodes\n",
    "        graph_construction_model = layers.GraphConstruction(\n",
    "            node_layers=[geometry.AlphaCarbonNode()],\n",
    "            edge_layers = [\n",
    "                geometry.SpatialEdge(radius=10.0, min_distance=5),\n",
    "                geometry.KNNEdge(k=10, min_distance=5),\n",
    "                geometry.SequentialEdge(max_distance=2),\n",
    "            ],\n",
    "            edge_feature=\"gearnet\",\n",
    "        )\n",
    "        dataloader = data.DataLoader([protein], batch_size=1)\n",
    "        batch = utils.cuda(next(iter(dataloader)))\n",
    "        batch = graph_construction_model(batch)\n",
    "        \n",
    "        protein_sequence = ''.join(\n",
    "            i for i in batch.to_sequence()[0] if i != '.'\n",
    "        )\n",
    "        if protein_sequence != sequence:\n",
    "            print(f'Validation failed for {pdb_id}: sequence mismatch.')\n",
    "            print(f'Length of alpha carbons: {len(protein_sequence)}, length of given sequence: {len(sequence)}')\n",
    "            print('Sequence from protein:')\n",
    "            print(protein_sequence)\n",
    "            print('Sequence from txt:')\n",
    "            print(sequence)\n",
    "        elif protein.num_residue != len(sequence):\n",
    "            print(f'Validation failed for {pdb_id}: length mismatch.')\n",
    "            print(f'Number of residues: {protein.num_residue}, length of sequence: {len(sequence)}')\n",
    "        else:\n",
    "            print(f'Validation passed for {pdb_id}')\n",
    "\n",
    "validate_unmatched(unmatched_proteins)\n"
   ]
  },
  {
   "cell_type": "code",
   "execution_count": 9,
   "metadata": {},
   "outputs": [
    {
     "name": "stdout",
     "output_type": "stream",
     "text": [
      "Attempting to load 5DN3A...\n"
     ]
    },
    {
     "ename": "NameError",
     "evalue": "name 'try_loading_pdb' is not defined",
     "output_type": "error",
     "traceback": [
      "\u001b[0;31m---------------------------------------------------------------------------\u001b[0m",
      "\u001b[0;31mNameError\u001b[0m                                 Traceback (most recent call last)",
      "Cell \u001b[0;32mIn[9], line 4\u001b[0m\n\u001b[1;32m      2\u001b[0m \u001b[38;5;28mprint\u001b[39m(\u001b[38;5;124m\"\u001b[39m\u001b[38;5;124mAttempting to load 5DN3A...\u001b[39m\u001b[38;5;124m\"\u001b[39m)\n\u001b[1;32m      3\u001b[0m file_path \u001b[38;5;241m=\u001b[39m os\u001b[38;5;241m.\u001b[39mpath\u001b[38;5;241m.\u001b[39mjoin(atp_folder, \u001b[38;5;124m'\u001b[39m\u001b[38;5;124m5DN3A.pdb\u001b[39m\u001b[38;5;124m'\u001b[39m)\n\u001b[0;32m----> 4\u001b[0m protein \u001b[38;5;241m=\u001b[39m \u001b[43mtry_loading_pdb\u001b[49m(file_path)\n\u001b[1;32m      6\u001b[0m \u001b[38;5;28;01mif\u001b[39;00m protein:\n\u001b[1;32m      7\u001b[0m     \u001b[38;5;28mprint\u001b[39m(\u001b[38;5;124m\"\u001b[39m\u001b[38;5;124mSuccessfully loaded 5DN3A\u001b[39m\u001b[38;5;124m\"\u001b[39m)\n",
      "\u001b[0;31mNameError\u001b[0m: name 'try_loading_pdb' is not defined"
     ]
    }
   ],
   "source": [
    "# Try loading 5DN3A\n",
    "print(\"Attempting to load 5DN3A...\")\n",
    "file_path = os.path.join(atp_folder, '5DN3A.pdb')\n",
    "protein = try_loading_pdb(file_path)\n",
    "\n",
    "if protein:\n",
    "    print(\"Successfully loaded 5DN3A\")\n",
    "    print(f\"Number of residues: {protein.num_residue}\")\n",
    "    print(f\"Sequence: {protein.to_sequence()}\")\n",
    "else:\n",
    "    print(\"Failed to load 5DN3A\")\n",
    "\n"
   ]
  },
  {
   "cell_type": "code",
   "execution_count": 10,
   "metadata": {},
   "outputs": [
    {
     "name": "stdout",
     "output_type": "stream",
     "text": [
      "Attempting to load 3EPSA...\n",
      "Successfully loaded 3EPSA\n",
      "Number of residues: 566\n",
      "Sequence: PRGLELLIAQTILQGFDAQYGRFLEVTSGAQQRFEQADWHAVQQAMKNRIHLYDHHVGLVVEQLRCITNGQSTDAEFLLRVKEHYTRLLPDYPRFEIAESFFNSVYCRLFDHRSLTPERLFIFSSQPERRFRTIPRPLAKDFHPDHGWESLLMRVISDLPLRLHWQNKSRDIHYIIRHLTETLGPENLSKSHLQVANELFYRNKAAWLVGKLITPSGTLPFLLPIHQTDDGELFIDTCLTTTAEASIVFGFARSYFMVYAPLPAALVEWLREILPGKTTAELYMAIGCQKHAKTESYREYLVYLQGCNEQFIEAPGIRGMVMLVFTLPGFDRVFKVIKDKFAPQKEMSAAHVRACYQLVKEHDRVGRMADTQEFENFVLEKRHISPALMELLLQEAAEKITDLGEQIVIRHLYIERRMVPLNIWLEQVEGQQLRDAIEEYGNAIRQLAAANIFPGDMLFKNFGVTRHGRVVFYDYDEICYMTEVNFRDIPPPRYP.PWYSVSPGDVFPEEFRHWLCADPRIGPLFEEMHADLFRADYWRALQNRIREGHVEDVYAYRRRQRFSVRYG\n"
     ]
    }
   ],
   "source": [
    "def try_loading_pdb(file_path):\n",
    "    try:\n",
    "        protein = data.Protein.from_pdb(file_path)\n",
    "        return protein\n",
    "    except Exception as e:\n",
    "        print(\"Error loading %s\" % file_path)\n",
    "        return None\n",
    "\n",
    "# Try loading 3EPSA\n",
    "print(\"Attempting to load 3EPSA...\")\n",
    "file_path = os.path.join(atp_folder, '3EPSA.pdb')\n",
    "protein = try_loading_pdb(file_path)\n",
    "\n",
    "if protein:\n",
    "    print(\"Successfully loaded 3EPSA\")\n",
    "    print(f\"Number of residues: {protein.num_residue}\")\n",
    "    print(f\"Sequence: {protein.to_sequence()}\")\n",
    "else:\n",
    "    print(\"Failed to load 3EPSA\")"
   ]
  },
  {
   "cell_type": "code",
   "execution_count": null,
   "metadata": {},
   "outputs": [],
   "source": []
  }
 ],
 "metadata": {
  "kernelspec": {
   "display_name": "jc",
   "language": "python",
   "name": "python3"
  },
  "language_info": {
   "codemirror_mode": {
    "name": "ipython",
    "version": 3
   },
   "file_extension": ".py",
   "mimetype": "text/x-python",
   "name": "python",
   "nbconvert_exporter": "python",
   "pygments_lexer": "ipython3",
   "version": "3.9.17"
  }
 },
 "nbformat": 4,
 "nbformat_minor": 2
}
