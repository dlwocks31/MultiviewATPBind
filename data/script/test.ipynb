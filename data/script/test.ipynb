{
 "cells": [
  {
   "cell_type": "code",
   "execution_count": 6,
   "metadata": {},
   "outputs": [
    {
     "name": "stdout",
     "output_type": "stream",
     "text": [
      "Transformation complete. FASTA file saved as ../bosutinib/bosutinib_binding.fasta\n"
     ]
    }
   ],
   "source": [
    "import re\n",
    "\n",
    "\n",
    "def transform_to_fasta(input_file, output_file):\n",
    "    with open(input_file, 'r') as infile, open(output_file, 'w') as outfile:\n",
    "        for line in infile:\n",
    "            # Split the line into components\n",
    "            parts = line.strip().split(' : ')\n",
    "            if len(parts) != 4:\n",
    "                continue  # Skip invalid lines\n",
    "\n",
    "            # Extract relevant information\n",
    "            pdb_id = parts[0]\n",
    "            sequence = parts[3]\n",
    "\n",
    "            # Write in FASTA format\n",
    "            outfile.write(f'>{pdb_id}\\n')\n",
    "\n",
    "            # Write sequence in lines of 100 characters\n",
    "            for i in range(0, len(sequence), 100):\n",
    "                outfile.write(sequence[i:i+100] + '\\n')\n",
    "\n",
    "\n",
    "# Usage\n",
    "input_file = '../bosutinib/bosutinib_binding.txt'\n",
    "output_file = '../bosutinib/bosutinib_binding.fasta'\n",
    "transform_to_fasta(input_file, output_file)\n",
    "\n",
    "print(f\"Transformation complete. FASTA file saved as {output_file}\")"
   ]
  }
 ],
 "metadata": {
  "kernelspec": {
   "display_name": "jc",
   "language": "python",
   "name": "python3"
  },
  "language_info": {
   "codemirror_mode": {
    "name": "ipython",
    "version": 3
   },
   "file_extension": ".py",
   "mimetype": "text/x-python",
   "name": "python",
   "nbconvert_exporter": "python",
   "pygments_lexer": "ipython3",
   "version": "3.9.17"
  }
 },
 "nbformat": 4,
 "nbformat_minor": 2
}
