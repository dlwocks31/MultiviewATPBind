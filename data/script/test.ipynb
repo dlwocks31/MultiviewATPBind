{
 "cells": [
  {
   "cell_type": "code",
   "execution_count": 3,
   "metadata": {},
   "outputs": [
    {
     "name": "stdout",
     "output_type": "stream",
     "text": [
      "(16, 4, 359, 5032, 14.016713091922005)\n",
      "(16, 4, 328, 5066, 15.445121951219512)\n",
      "(8, 3, 196, 2817, 14.372448979591837)\n"
     ]
    }
   ],
   "source": [
    "from generate_pdb_utils import count_dataset\n",
    "\n",
    "for dataset in ['imatinib', 'dasatinib', 'bosutinib']:\n",
    "    print(count_dataset(f'../../data/{dataset}/{dataset}_binding.txt'))"
   ]
  },
  {
   "cell_type": "code",
   "execution_count": null,
   "metadata": {},
   "outputs": [],
   "source": []
  },
  {
   "cell_type": "code",
   "execution_count": 27,
   "metadata": {},
   "outputs": [
    {
     "name": "stdout",
     "output_type": "stream",
     "text": [
      "7\n",
      "[(505, '5DN6A'), (530, '5BSMA'), (569, '5ECKA'), (606, '5E84F'), (630, '5D6JA'), (664, '5CYRB'), (863, '4XJXB')]\n"
     ]
    }
   ],
   "source": [
    "from generate_pdb_utils import read_file\n",
    "\n",
    "num_samples_train, sequences_train, targets_train, pdb_ids_train = read_file('../atp/test.txt')\n",
    "\n",
    "lens = sorted([(len(i), id) for i, id in zip(sequences_train, pdb_ids_train) if len(i) > 500])\n",
    "\n",
    "print(len(lens))\n",
    "print(lens[-10:])"
   ]
  },
  {
   "cell_type": "code",
   "execution_count": 23,
   "metadata": {},
   "outputs": [
    {
     "name": "stdout",
     "output_type": "stream",
     "text": [
      "ATP\n",
      "(388, 5657, 142086, 25.12)\n",
      "(41, 674, 14159, 21.01)\n",
      "imatinib\n",
      "(16, 290, 3945, 13.6)\n",
      "(4, 69, 1087, 15.75)\n",
      "dasatinib\n",
      "(16, 269, 4158, 15.46)\n",
      "(4, 59, 908, 15.39)\n",
      "bosutinib\n",
      "(8, 136, 2045, 15.04)\n",
      "(3, 60, 772, 12.87)\n"
     ]
    }
   ],
   "source": [
    "\n",
    "def count_dataset(targets, do_slice=None):\n",
    "    '''\n",
    "    Return\n",
    "    - Total Number of proteins\n",
    "    - total number of positive residues\n",
    "    - total number of negative residues\n",
    "    - P/N ratio\n",
    "    '''\n",
    "    num_samples = len(targets)\n",
    "    if do_slice == 'train':\n",
    "        targets = targets[:int(num_samples*0.8)]\n",
    "    elif do_slice == 'test':\n",
    "        targets = targets[int(num_samples*0.8):]\n",
    "    \n",
    "    total_num_positive_residues = 0\n",
    "    total_num_negative_residues = 0\n",
    "    for target in targets:\n",
    "        total_num_positive_residues += sum(target)\n",
    "        total_num_negative_residues += len(target) - sum(target)\n",
    "    return len(targets), total_num_positive_residues, total_num_negative_residues, round(total_num_negative_residues/total_num_positive_residues, 2)\n",
    "\n",
    "\n",
    "print('ATP')\n",
    "print(count_dataset(read_file('../atp/train.txt')[2]))\n",
    "print(count_dataset(read_file('../atp/test.txt')[2]))\n",
    "\n",
    "for dataset in ['imatinib', 'dasatinib', 'bosutinib']:\n",
    "    # print(count_dataset(f'../../data/{dataset}/{dataset}_binding.txt'))\n",
    "    print(dataset)\n",
    "    print(count_dataset(read_file(f'../../data/{dataset}/{dataset}_binding.txt')[2], do_slice='train'))\n",
    "    print(count_dataset(read_file(f'../../data/{dataset}/{dataset}_binding.txt')[2], do_slice='test'))"
   ]
  },
  {
   "cell_type": "code",
   "execution_count": 3,
   "metadata": {},
   "outputs": [],
   "source": [
    "from generate_pdb_utils import find_close_edit_distance\n",
    "import os\n",
    "\n",
    "\n",
    "def test(dataset_type, log_limit):\n",
    "    base_path = f'../../data/{dataset_type}'\n",
    "    find_close_edit_distance(base_path, f'{dataset_type}_binding.txt', ratio_threshold=0.6, log_limit=log_limit)"
   ]
  },
  {
   "cell_type": "code",
   "execution_count": 10,
   "metadata": {},
   "outputs": [
    {
     "name": "stdout",
     "output_type": "stream",
     "text": [
      "8 groups:\n",
      "[['2HYYA', '2OIQA', '3MS9A', '3OEZA', '4CSVA', '1IEPA', '7N9GA', '6NPUA', '3GVUA', '2PL0A', '3K5VA'], ['4R7IA', '6JOLA', '1T46A'], ['5MQTA'], ['3FW1A'], ['1XBBA'], ['3HECA'], ['6KTNA'], ['4BKJA']]\n",
      "20 closest pairs:\n",
      "2OIQA-3OEZA: ratio:0.019011406844106463, distance: 5\n",
      "2HYYA-6NPUA: ratio:0.03415559772296015, distance: 9\n",
      "3MS9A-1IEPA: ratio:0.04081632653061224, distance: 11\n",
      "2HYYA-1IEPA: ratio:0.0446927374301676, distance: 12\n",
      "3MS9A-6NPUA: ratio:0.045368620037807186, distance: 12\n",
      "1IEPA-3K5VA: ratio:0.05, distance: 14\n",
      "1IEPA-6NPUA: ratio:0.055762081784386616, distance: 15\n",
      "2HYYA-3MS9A: ratio:0.06439393939393939, distance: 17\n",
      "2HYYA-7N9GA: ratio:0.06627680311890838, distance: 17\n",
      "7N9GA-6NPUA: ratio:0.07003891050583658, distance: 18\n",
      "3MS9A-3K5VA: ratio:0.07622504537205081, distance: 21\n",
      "6NPUA-3K5VA: ratio:0.08363636363636363, distance: 23\n",
      "3MS9A-7N9GA: ratio:0.0854368932038835, distance: 22\n",
      "2HYYA-3K5VA: ratio:0.0947176684881603, distance: 26\n",
      "1IEPA-7N9GA: ratio:0.09541984732824428, distance: 25\n",
      "1IEPA-3GVUA: ratio:0.13577981651376148, distance: 37\n",
      "7N9GA-3K5VA: ratio:0.13805970149253732, distance: 37\n",
      "6NPUA-3GVUA: ratio:0.14953271028037382, distance: 40\n",
      "2HYYA-3GVUA: ratio:0.149812734082397, distance: 40\n",
      "3MS9A-3GVUA: ratio:0.15298507462686567, distance: 41\n"
     ]
    }
   ],
   "source": [
    "test('imatinib', log_limit=20)"
   ]
  },
  {
   "cell_type": "code",
   "execution_count": 33,
   "metadata": {},
   "outputs": [
    {
     "name": "stdout",
     "output_type": "stream",
     "text": [
      "Finding close edit distance..\n",
      "8 groups:\n",
      "[['2PL0A', '7N9GA', '2OIQA', '3OEZA', '3GVUA', '4CSVA', '3K5VA', '1IEPA', '6NPUA', '3MS9A', '2HYYA'], ['1T46A', '6JOLA', '4R7IA'], ['3FW1A'], ['5MQTA'], ['1XBBA'], ['3HECA'], ['6KTNA'], ['4BKJA']]\n",
      "10 closest pairs:\n",
      "2OIQA-3OEZA: ratio:0.019011406844106463, distance: 5\n",
      "6NPUA-2HYYA: ratio:0.03415559772296015, distance: 9\n",
      "1IEPA-3MS9A: ratio:0.04081632653061224, distance: 11\n",
      "1IEPA-2HYYA: ratio:0.0446927374301676, distance: 12\n",
      "6NPUA-3MS9A: ratio:0.045368620037807186, distance: 12\n",
      "3K5VA-1IEPA: ratio:0.05, distance: 14\n",
      "1IEPA-6NPUA: ratio:0.055762081784386616, distance: 15\n",
      "3MS9A-2HYYA: ratio:0.06439393939393939, distance: 17\n",
      "7N9GA-2HYYA: ratio:0.06627680311890838, distance: 17\n",
      "7N9GA-6NPUA: ratio:0.07003891050583658, distance: 18\n",
      "pdb_id_order: ['2PL0A', '5MQTA', '6NPUA', '3MS9A', '4CSVA', '3GVUA', '7N9GA', '2OIQA', '3K5VA', '6JOLA']..\n"
     ]
    }
   ],
   "source": [
    "# find close edit distance and save\n",
    "import random\n",
    "from generate_pdb_utils import save_lines\n",
    "\n",
    "def edit_and_save(dataset_type, ratio_threshold=0.6):\n",
    "    print(f'Finding close edit distance..')\n",
    "    base_path = f'../../data/{dataset_type}'\n",
    "    unions = find_close_edit_distance(base_path, f'{dataset_type}_binding.txt', ratio_threshold=ratio_threshold)\n",
    "    pdb_id_order = []\n",
    "    for union in unions:\n",
    "        pdb_id_order += union\n",
    "    tmp_array = pdb_id_order[:int(len(pdb_id_order)*0.8)]\n",
    "    random.shuffle(tmp_array)\n",
    "    pdb_id_order = tmp_array + pdb_id_order[int(len(pdb_id_order)*0.8):]\n",
    "    print(f'pdb_id_order: {pdb_id_order[:10]}..')\n",
    "    save_lines(os.path.join(base_path, f'{dataset_type}_binding.txt'), pdb_id_order)\n",
    "\n",
    "\n",
    "edit_and_save('imatinib', ratio_threshold=0.6)"
   ]
  },
  {
   "cell_type": "code",
   "execution_count": 12,
   "metadata": {},
   "outputs": [
    {
     "name": "stdout",
     "output_type": "stream",
     "text": [
      "7 groups:\n",
      "[['2Y6OA', '2ZVAA', '3G5DA', '3QLGA', '3K54A', '3OCTA', '3SXRA', '4XEYB', '4XLIA', '7N9GA', '5H2UA', '5I9YA'], ['3LFAA', '3OHTA'], ['5BVWA', '6BSDA'], ['4QMSA'], ['5OWRA'], ['5VCVA'], ['7ERKA']]\n",
      "20 closest pairs:\n",
      "5BVWA-6BSDA: ratio:0.021739130434782608, distance: 6\n",
      "3K54A-3OCTA: ratio:0.053388090349075976, distance: 13\n",
      "3G5DA-3QLGA: ratio:0.05825242718446602, distance: 15\n",
      "4XLIA-7N9GA: ratio:0.13618677042801555, distance: 35\n",
      "3LFAA-3OHTA: ratio:0.15963855421686746, distance: 53\n",
      "2Y6OA-5I9YA: ratio:0.3527272727272727, distance: 97\n",
      "4XEYB-7N9GA: ratio:0.3973727422003284, distance: 121\n",
      "4XEYB-4XLIA: ratio:0.40770465489566615, distance: 127\n",
      "3OCTA-3SXRA: ratio:0.4166666666666667, distance: 105\n",
      "2ZVAA-3QLGA: ratio:0.4269230769230769, distance: 111\n",
      "2ZVAA-3G5DA: ratio:0.4448742746615087, distance: 115\n",
      "3K54A-3SXRA: ratio:0.4532803180914513, distance: 114\n",
      "3G5DA-5H2UA: ratio:0.5335892514395394, distance: 139\n",
      "3QLGA-5H2UA: ratio:0.5381679389312977, distance: 141\n",
      "3G5DA-7N9GA: ratio:0.541501976284585, distance: 137\n",
      "3OCTA-7N9GA: ratio:0.5425101214574899, distance: 134\n",
      "3QLGA-7N9GA: ratio:0.5461689587426326, distance: 139\n",
      "2ZVAA-4XLIA: ratio:0.5485714285714286, distance: 144\n",
      "2ZVAA-5H2UA: ratio:0.5551330798479087, distance: 146\n",
      "2ZVAA-7N9GA: ratio:0.5557729941291585, distance: 142\n"
     ]
    }
   ],
   "source": [
    "test('dasatinib', 20)"
   ]
  },
  {
   "cell_type": "code",
   "execution_count": 35,
   "metadata": {},
   "outputs": [
    {
     "name": "stdout",
     "output_type": "stream",
     "text": [
      "Finding close edit distance..\n",
      "7 groups:\n",
      "[['3G5DA', '5H2UA', '2ZVAA', '7N9GA', '3QLGA', '4XLIA', '3SXRA', '3OCTA', '3K54A', '4XEYB', '5I9YA', '2Y6OA'], ['6BSDA', '5BVWA'], ['3LFAA', '3OHTA'], ['4QMSA'], ['5OWRA'], ['5VCVA'], ['7ERKA']]\n",
      "10 closest pairs:\n",
      "6BSDA-5BVWA: ratio:0.021739130434782608, distance: 6\n",
      "3OCTA-3K54A: ratio:0.053388090349075976, distance: 13\n",
      "3G5DA-3QLGA: ratio:0.05825242718446602, distance: 15\n",
      "7N9GA-4XLIA: ratio:0.13618677042801555, distance: 35\n",
      "3LFAA-3OHTA: ratio:0.15963855421686746, distance: 53\n",
      "5I9YA-2Y6OA: ratio:0.3527272727272727, distance: 97\n",
      "7N9GA-4XEYB: ratio:0.3973727422003284, distance: 121\n",
      "4XLIA-4XEYB: ratio:0.40770465489566615, distance: 127\n",
      "3OCTA-3SXRA: ratio:0.4166666666666667, distance: 105\n",
      "2ZVAA-3QLGA: ratio:0.4269230769230769, distance: 111\n",
      "pdb_id_order: ['3K54A', '2Y6OA', '7N9GA', '5I9YA', '3OCTA', '5H2UA', '3SXRA', '4XLIA', '3OHTA', '4XEYB']..\n"
     ]
    }
   ],
   "source": [
    "edit_and_save('dasatinib', ratio_threshold=0.6)"
   ]
  },
  {
   "cell_type": "code",
   "execution_count": 13,
   "metadata": {},
   "outputs": [
    {
     "name": "stdout",
     "output_type": "stream",
     "text": [
      "5 groups:\n",
      "[['3UE4A', '4MXOA', '4MXXA', '4MXYA', '4MXZA', '5I9XA'], ['4QMNA', '5AJQA'], ['5VC3A'], ['5VCYA'], ['6OP9A']]\n",
      "20 closest pairs:\n",
      "4MXYA-4MXZA: ratio:0.0, distance: 0\n",
      "4MXOA-4MXXA: ratio:0.0037593984962406013, distance: 1\n",
      "4MXOA-4MXYA: ratio:0.007518796992481203, distance: 2\n",
      "4MXOA-4MXZA: ratio:0.007518796992481203, distance: 2\n",
      "4MXXA-4MXYA: ratio:0.011278195488721804, distance: 3\n",
      "4MXXA-4MXZA: ratio:0.011278195488721804, distance: 3\n",
      "3UE4A-4MXOA: ratio:0.5597014925373134, distance: 150\n",
      "3UE4A-4MXXA: ratio:0.5634328358208955, distance: 151\n",
      "3UE4A-4MXYA: ratio:0.5671641791044776, distance: 152\n",
      "3UE4A-4MXZA: ratio:0.5671641791044776, distance: 152\n",
      "4MXOA-5I9XA: ratio:0.5927272727272728, distance: 163\n",
      "4MXXA-5I9XA: ratio:0.5927272727272728, distance: 163\n",
      "4QMNA-5AJQA: ratio:0.5932504440497336, distance: 167\n",
      "4MXYA-5I9XA: ratio:0.6, distance: 165\n",
      "4MXZA-5I9XA: ratio:0.6, distance: 165\n",
      "3UE4A-5I9XA: ratio:0.628158844765343, distance: 174\n",
      "4MXOA-6OP9A: ratio:0.6715867158671587, distance: 182\n",
      "3UE4A-6OP9A: ratio:0.673992673992674, distance: 184\n",
      "4MXXA-6OP9A: ratio:0.6752767527675276, distance: 183\n",
      "4MXYA-6OP9A: ratio:0.6752767527675276, distance: 183\n"
     ]
    }
   ],
   "source": [
    "test('bosutinib', 20)"
   ]
  },
  {
   "cell_type": "code",
   "execution_count": 36,
   "metadata": {},
   "outputs": [
    {
     "name": "stdout",
     "output_type": "stream",
     "text": [
      "Finding close edit distance..\n",
      "5 groups:\n",
      "[['4MXYA', '4MXXA', '4MXOA', '3UE4A', '4MXZA', '5I9XA'], ['4QMNA', '5AJQA'], ['5VC3A'], ['5VCYA'], ['6OP9A']]\n",
      "10 closest pairs:\n",
      "4MXYA-4MXZA: ratio:0.0, distance: 0\n",
      "4MXXA-4MXOA: ratio:0.0037593984962406013, distance: 1\n",
      "4MXYA-4MXOA: ratio:0.007518796992481203, distance: 2\n",
      "4MXOA-4MXZA: ratio:0.007518796992481203, distance: 2\n",
      "4MXYA-4MXXA: ratio:0.011278195488721804, distance: 3\n",
      "4MXXA-4MXZA: ratio:0.011278195488721804, distance: 3\n",
      "4MXOA-3UE4A: ratio:0.5597014925373134, distance: 150\n",
      "4MXXA-3UE4A: ratio:0.5634328358208955, distance: 151\n",
      "4MXYA-3UE4A: ratio:0.5671641791044776, distance: 152\n",
      "3UE4A-4MXZA: ratio:0.5671641791044776, distance: 152\n",
      "pdb_id_order: ['4MXYA', '3UE4A', '4MXOA', '4MXXA', '4MXZA', '5AJQA', '5I9XA', '4QMNA', '5VC3A', '5VCYA']..\n"
     ]
    }
   ],
   "source": [
    "edit_and_save('bosutinib', ratio_threshold=0.6)"
   ]
  },
  {
   "cell_type": "code",
   "execution_count": null,
   "metadata": {},
   "outputs": [],
   "source": []
  }
 ],
 "metadata": {
  "kernelspec": {
   "display_name": "jc",
   "language": "python",
   "name": "python3"
  },
  "language_info": {
   "codemirror_mode": {
    "name": "ipython",
    "version": 3
   },
   "file_extension": ".py",
   "mimetype": "text/x-python",
   "name": "python",
   "nbconvert_exporter": "python",
   "pygments_lexer": "ipython3",
   "version": "3.9.17"
  }
 },
 "nbformat": 4,
 "nbformat_minor": 2
}
