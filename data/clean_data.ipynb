{
 "cells": [
  {
   "cell_type": "code",
   "execution_count": 14,
   "metadata": {},
   "outputs": [],
   "source": [
    "'''\n",
    "This is notebook for remove all atom except CA from pdb file\n",
    "'''\n",
    "\n",
    "from Bio.PDB import Select, PDBIO\n",
    "from Bio.PDB.PDBParser import PDBParser\n",
    "\n",
    "\n",
    "class ChainSelect(Select):\n",
    "    def __init__(self):\n",
    "        pass\n",
    "\n",
    "    def accept_residue(self, residue):\n",
    "        hetflag, _, _ = residue.get_id()\n",
    "        return hetflag == \" \"  # Should only accept normal residue (not HETATM)\n",
    "\n",
    "    def accept_atom(self, atom):\n",
    "        # Should only accept backbone atoms\n",
    "        return atom.get_name() in [\"CA\"]\n",
    "\n",
    "def clean_file(file_path):\n",
    "    pdb_id = file_path.split('/')[-1].split('.')[0]\n",
    "    p = PDBParser(PERMISSIVE=1)\n",
    "    structure = p.get_structure(pdb_id[:4], file_path)\n",
    "    select = ChainSelect()\n",
    "    pdbio = PDBIO()\n",
    "    pdbio.set_structure(structure)\n",
    "    pdbio.save(file_path, select)"
   ]
  },
  {
   "cell_type": "code",
   "execution_count": 15,
   "metadata": {},
   "outputs": [],
   "source": [
    "import os\n",
    "files = os.listdir('atp-esm')\n",
    "for file in files:\n",
    "    clean_file(f'atp-esm/{file}')\n"
   ]
  }
 ],
 "metadata": {
  "kernelspec": {
   "display_name": "jc",
   "language": "python",
   "name": "python3"
  },
  "language_info": {
   "codemirror_mode": {
    "name": "ipython",
    "version": 3
   },
   "file_extension": ".py",
   "mimetype": "text/x-python",
   "name": "python",
   "nbconvert_exporter": "python",
   "pygments_lexer": "ipython3",
   "version": "3.9.17"
  }
 },
 "nbformat": 4,
 "nbformat_minor": 2
}
