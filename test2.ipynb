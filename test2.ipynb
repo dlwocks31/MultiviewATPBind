{
 "cells": [
  {
   "cell_type": "code",
   "execution_count": 1,
   "metadata": {},
   "outputs": [],
   "source": [
    "import torch\n",
    "w = torch.load('weight/atpbind3d-1930_esm-t33-gearnet_1.pt', map_location='cpu')"
   ]
  },
  {
   "cell_type": "code",
   "execution_count": 2,
   "metadata": {},
   "outputs": [],
   "source": [
    "for key in list(w.keys()):\n",
    "    if key.startswith(\"mlp\"):\n",
    "        del w[key]\n",
    "torch.save(w, 'weight/atpbind3d-1930_esm-t33-gearnet_1_rmmlp.pt')"
   ]
  }
 ],
 "metadata": {
  "kernelspec": {
   "display_name": "jc",
   "language": "python",
   "name": "python3"
  },
  "language_info": {
   "codemirror_mode": {
    "name": "ipython",
    "version": 3
   },
   "file_extension": ".py",
   "mimetype": "text/x-python",
   "name": "python",
   "nbconvert_exporter": "python",
   "pygments_lexer": "ipython3",
   "version": "3.9.17"
  }
 },
 "nbformat": 4,
 "nbformat_minor": 2
}
