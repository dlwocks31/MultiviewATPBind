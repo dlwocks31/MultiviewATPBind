{
 "cells": [
  {
   "cell_type": "code",
   "execution_count": 1,
   "metadata": {},
   "outputs": [],
   "source": [
    "from lib.datasets import ATPBind3D\n",
    "\n",
    "# dataset_orig = ATPBind3D()\n",
    "# dataset_orig.initialize_mask_and_weights()"
   ]
  },
  {
   "cell_type": "code",
   "execution_count": 7,
   "metadata": {},
   "outputs": [
    {
     "name": "stdout",
     "output_type": "stream",
     "text": [
      "Initialize Undersampling: all ones\n",
      "Initialize Weighting: all ones\n"
     ]
    },
    {
     "data": {
      "text/plain": [
       "ATPBind3D(\n",
       "  #sample: 631\n",
       "  #task: 1\n",
       ")"
      ]
     },
     "execution_count": 7,
     "metadata": {},
     "output_type": "execute_result"
    }
   ],
   "source": [
    "dataset = ATPBind3D(to_slice=True)\n",
    "dataset.initialize_mask_and_weights()"
   ]
  },
  {
   "cell_type": "code",
   "execution_count": 2,
   "metadata": {},
   "outputs": [],
   "source": [
    "from lib.pipeline import Pipeline\n",
    "import pandas as pd\n",
    "from torchdrug import utils, data\n",
    "import os\n",
    "import torch\n",
    "import inspect\n",
    "import numpy as np\n",
    "\n",
    "from lib.utils import generate_mean_ensemble_metrics_auto, read_initial_csv, aggregate_pred_dataframe\n",
    "GPU = 0\n",
    "\n",
    "from atpbind_main import main\n"
   ]
  },
  {
   "cell_type": "code",
   "execution_count": 3,
   "metadata": {},
   "outputs": [
    {
     "name": "stdout",
     "output_type": "stream",
     "text": [
      "batch_size: 8\n",
      "init pipeline, model: esm-t33, dataset: atpbind3d, gpus: [0]\n",
      "load model esm-t33, kwargs: {'gpu': 0, 'freeze_esm': False, 'freeze_layer_count': 30}\n",
      "get dataset atpbind3d\n",
      "Initialize Undersampling: all ones\n",
      "Initialize Weighting: all ones\n",
      "train samples: 472, valid samples: 118, test samples: 41\n",
      "Adam parameter: all\n",
      "use cyclic lr scheduler\n",
      "pipeline batch_size: 8\n",
      "0m28s {'sensitivity': 0.6156, 'specificity': 0.9818, 'accuracy': 0.9628, 'precision': 0.6487, 'mcc': 0.6124, 'micro_auroc': 0.946, 'valid_mcc': 0.584, 'train_bce': 0.1278, 'valid_bce': 0.095, 'lr': 0.00084}\n",
      "0m27s {'sensitivity': 0.6045, 'specificity': 0.9889, 'accuracy': 0.969, 'precision': 0.749, 'mcc': 0.6571, 'micro_auroc': 0.9412, 'valid_mcc': 0.6346, 'train_bce': 0.0634, 'valid_bce': 0.0863, 'lr': 0.00138}\n",
      "0m30s {'sensitivity': 0.6077, 'specificity': 0.9853, 'accuracy': 0.9657, 'precision': 0.6927, 'mcc': 0.631, 'micro_auroc': 0.9381, 'valid_mcc': 0.6161, 'train_bce': 0.0347, 'valid_bce': 0.0986, 'lr': 0.00192}\n",
      "0m34s {'sensitivity': 0.6236, 'specificity': 0.9852, 'accuracy': 0.9665, 'precision': 0.697, 'mcc': 0.6418, 'micro_auroc': 0.9303, 'valid_mcc': 0.6312, 'train_bce': 0.0249, 'valid_bce': 0.1031, 'lr': 0.00246}\n",
      "0m38s {'sensitivity': 0.5582, 'specificity': 0.9901, 'accuracy': 0.9677, 'precision': 0.7543, 'mcc': 0.6329, 'micro_auroc': 0.9088, 'valid_mcc': 0.6158, 'train_bce': 0.0306, 'valid_bce': 0.1422, 'lr': 0.003}\n",
      "0m41s {'sensitivity': 0.5167, 'specificity': 0.9929, 'accuracy': 0.9683, 'precision': 0.8, 'mcc': 0.6281, 'micro_auroc': 0.9178, 'valid_mcc': 0.6138, 'train_bce': 0.0308, 'valid_bce': 0.1279, 'lr': 0.00246}\n",
      "0m43s {'sensitivity': 0.571, 'specificity': 0.989, 'accuracy': 0.9674, 'precision': 0.7397, 'mcc': 0.6334, 'micro_auroc': 0.9379, 'valid_mcc': 0.632, 'train_bce': 0.0182, 'valid_bce': 0.1378, 'lr': 0.00192}\n",
      "0m41s {'sensitivity': 0.5997, 'specificity': 0.9905, 'accuracy': 0.9703, 'precision': 0.7753, 'mcc': 0.6669, 'micro_auroc': 0.9398, 'valid_mcc': 0.6519, 'train_bce': 0.01, 'valid_bce': 0.1462, 'lr': 0.00138}\n",
      "0m45s {'sensitivity': 0.6045, 'specificity': 0.9923, 'accuracy': 0.9722, 'precision': 0.8116, 'mcc': 0.6867, 'micro_auroc': 0.9399, 'valid_mcc': 0.6778, 'train_bce': 0.0039, 'valid_bce': 0.1784, 'lr': 0.00084}\n",
      "0m46s {'sensitivity': 0.6077, 'specificity': 0.9916, 'accuracy': 0.9717, 'precision': 0.7987, 'mcc': 0.6826, 'micro_auroc': 0.9371, 'valid_mcc': 0.6768, 'train_bce': 0.001, 'valid_bce': 0.1967, 'lr': 0.0003}\n",
      "Computing dataframe: Using finished state..\n",
      "single_run done. Best MCC: 0.6826\n"
     ]
    }
   ],
   "source": [
    "main(model_key='esm-t33', valid_fold=0)"
   ]
  },
  {
   "cell_type": "code",
   "execution_count": 121,
   "metadata": {},
   "outputs": [
    {
     "name": "stdout",
     "output_type": "stream",
     "text": [
      "batch_size: 8\n",
      "init pipeline, model: esm-t33, dataset: atpbind3d, gpus: [0]\n",
      "load model esm-t33, kwargs: {'gpu': 0, 'freeze_esm': False, 'freeze_layer_count': 30}\n",
      "Initialize Undersampling: all ones\n",
      "Initialize Weighting: all ones\n",
      "train samples: 472, valid samples: 118, test samples: 41\n",
      "Adam parameter: all\n",
      "use cyclic lr scheduler\n",
      "pipeline batch_size: 8\n",
      "0m29s {'sensitivity': 0.6306, 'specificity': 0.9823, 'accuracy': 0.9663, 'precision': 0.6287, 'mcc': 0.612, 'micro_auroc': 0.9471, 'valid_mcc': 0.5269, 'train_bce': 0.1273, 'valid_bce': 0.1016, 'lr': 0.00084}\n",
      "0m29s {'sensitivity': 0.592, 'specificity': 0.9905, 'accuracy': 0.9724, 'precision': 0.7472, 'mcc': 0.6512, 'micro_auroc': 0.9458, 'valid_mcc': 0.5719, 'train_bce': 0.0597, 'valid_bce': 0.1122, 'lr': 0.00138}\n",
      "0m32s {'sensitivity': 0.5564, 'specificity': 0.993, 'accuracy': 0.9732, 'precision': 0.7911, 'mcc': 0.6505, 'micro_auroc': 0.942, 'valid_mcc': 0.5699, 'train_bce': 0.0321, 'valid_bce': 0.1126, 'lr': 0.00192}\n",
      "0m38s {'sensitivity': 0.6499, 'specificity': 0.9821, 'accuracy': 0.967, 'precision': 0.6329, 'mcc': 0.624, 'micro_auroc': 0.9284, 'valid_mcc': 0.5507, 'train_bce': 0.026, 'valid_bce': 0.13, 'lr': 0.00246}\n",
      "0m42s {'sensitivity': 0.6113, 'specificity': 0.9871, 'accuracy': 0.9701, 'precision': 0.6936, 'mcc': 0.6357, 'micro_auroc': 0.9273, 'valid_mcc': 0.5665, 'train_bce': 0.0287, 'valid_bce': 0.1524, 'lr': 0.003}\n",
      "0m45s {'sensitivity': 0.5831, 'specificity': 0.99, 'accuracy': 0.9715, 'precision': 0.736, 'mcc': 0.6407, 'micro_auroc': 0.9315, 'valid_mcc': 0.5617, 'train_bce': 0.0259, 'valid_bce': 0.1256, 'lr': 0.00246}\n",
      "0m44s {'sensitivity': 0.6142, 'specificity': 0.9894, 'accuracy': 0.9724, 'precision': 0.734, 'mcc': 0.6573, 'micro_auroc': 0.9271, 'valid_mcc': 0.5693, 'train_bce': 0.0165, 'valid_bce': 0.182, 'lr': 0.00192}\n",
      "0m46s {'sensitivity': 0.6499, 'specificity': 0.9872, 'accuracy': 0.9719, 'precision': 0.7076, 'mcc': 0.6635, 'micro_auroc': 0.9265, 'valid_mcc': 0.5732, 'train_bce': 0.0084, 'valid_bce': 0.1543, 'lr': 0.00138}\n",
      "0m41s {'sensitivity': 0.6424, 'specificity': 0.9876, 'accuracy': 0.9719, 'precision': 0.711, 'mcc': 0.6613, 'micro_auroc': 0.9278, 'valid_mcc': 0.598, 'train_bce': 0.0027, 'valid_bce': 0.2024, 'lr': 0.00084}\n",
      "0m47s {'sensitivity': 0.635, 'specificity': 0.9897, 'accuracy': 0.9736, 'precision': 0.7456, 'mcc': 0.6746, 'micro_auroc': 0.928, 'valid_mcc': 0.593, 'train_bce': 0.0014, 'valid_bce': 0.2036, 'lr': 0.0003}\n",
      "Computing dataframe: Using finished state..\n",
      "single_run done. Best MCC: 0.6746\n"
     ]
    }
   ],
   "source": [
    "main(model_key='esm-t33', valid_fold=1)"
   ]
  },
  {
   "cell_type": "code",
   "execution_count": 2,
   "metadata": {},
   "outputs": [
    {
     "name": "stdout",
     "output_type": "stream",
     "text": [
      "init pipeline, model: esm-t33, dataset: atpbind3d, gpus: [1]\n",
      "load model esm-t33, kwargs: {'gpu': 1, 'freeze_esm': False, 'freeze_layer_count': 30}\n",
      "get dataset atpbind3d\n",
      "Initialize Undersampling: all ones\n",
      "Initialize Weighting: all ones\n",
      "train samples: 356, valid samples: 89, test samples: 41\n",
      "Adam parameter: all\n",
      "use cyclic lr scheduler\n",
      "pipeline batch_size: 8\n"
     ]
    }
   ],
   "source": [
    "from lib.pipeline import Pipeline\n",
    "import pandas as pd\n",
    "from torchdrug import utils, data\n",
    "import os\n",
    "import torch\n",
    "import inspect\n",
    "import numpy as np\n",
    "\n",
    "CYCLE_SIZE = 10\n",
    "pipeline = Pipeline(\n",
    "    dataset='atpbind3d',\n",
    "    model='esm-t33',\n",
    "    gpus=[1],\n",
    "    model_kwargs={\n",
    "        'gpu': 1,\n",
    "        'freeze_esm': False,\n",
    "        'freeze_layer_count': 30,  \n",
    "    },\n",
    "    scheduler='cyclic',\n",
    "    scheduler_kwargs={\n",
    "        'base_lr': 3e-4,\n",
    "        'max_lr': 3e-3,\n",
    "        'step_size_up': CYCLE_SIZE / 2,\n",
    "        'step_size_down': CYCLE_SIZE / 2,\n",
    "        'cycle_momentum': False\n",
    "    },\n",
    "    batch_size=8,\n",
    "    max_length=550,\n",
    ")"
   ]
  },
  {
   "cell_type": "code",
   "execution_count": 3,
   "metadata": {},
   "outputs": [
    {
     "name": "stdout",
     "output_type": "stream",
     "text": [
      "0m32s {'sensitivity': 0.6051, 'specificity': 0.9792, 'accuracy': 0.9617, 'precision': 0.5875, 'mcc': 0.5761, 'micro_auroc': 0.9343, 'valid_mcc': 0.5519, 'train_bce': 0.1469, 'valid_bce': 0.0985, 'lr': 0.00084}\n",
      "0m31s {'sensitivity': 0.6006, 'specificity': 0.9894, 'accuracy': 0.9712, 'precision': 0.7353, 'mcc': 0.6499, 'micro_auroc': 0.9446, 'valid_mcc': 0.6357, 'train_bce': 0.0663, 'valid_bce': 0.081, 'lr': 0.00138}\n",
      "0m30s {'sensitivity': 0.5781, 'specificity': 0.9887, 'accuracy': 0.9695, 'precision': 0.7156, 'mcc': 0.6277, 'micro_auroc': 0.926, 'valid_mcc': 0.6133, 'train_bce': 0.0356, 'valid_bce': 0.1072, 'lr': 0.00192}\n",
      "0m31s {'sensitivity': 0.5285, 'specificity': 0.9899, 'accuracy': 0.9684, 'precision': 0.7198, 'mcc': 0.6011, 'micro_auroc': 0.9148, 'valid_mcc': 0.6136, 'train_bce': 0.0332, 'valid_bce': 0.1575, 'lr': 0.00246}\n",
      "0m31s {'sensitivity': 0.6216, 'specificity': 0.9822, 'accuracy': 0.9653, 'precision': 0.6311, 'mcc': 0.6082, 'micro_auroc': 0.9228, 'valid_mcc': 0.6341, 'train_bce': 0.0254, 'valid_bce': 0.133, 'lr': 0.003}\n",
      "0m31s {'sensitivity': 0.6081, 'specificity': 0.9802, 'accuracy': 0.9628, 'precision': 0.6009, 'mcc': 0.585, 'micro_auroc': 0.9176, 'valid_mcc': 0.6131, 'train_bce': 0.0219, 'valid_bce': 0.108, 'lr': 0.00246}\n",
      "0m31s {'sensitivity': 0.6186, 'specificity': 0.9865, 'accuracy': 0.9693, 'precision': 0.6913, 'mcc': 0.638, 'micro_auroc': 0.9263, 'valid_mcc': 0.644, 'train_bce': 0.0157, 'valid_bce': 0.1359, 'lr': 0.00192}\n",
      "0m31s {'sensitivity': 0.6276, 'specificity': 0.9865, 'accuracy': 0.9698, 'precision': 0.6955, 'mcc': 0.645, 'micro_auroc': 0.9254, 'valid_mcc': 0.6553, 'train_bce': 0.0062, 'valid_bce': 0.1452, 'lr': 0.00138}\n",
      "0m32s {'sensitivity': 0.6171, 'specificity': 0.989, 'accuracy': 0.9716, 'precision': 0.7326, 'mcc': 0.6578, 'micro_auroc': 0.933, 'valid_mcc': 0.6609, 'train_bce': 0.0027, 'valid_bce': 0.1613, 'lr': 0.00084}\n",
      "0m33s {'sensitivity': 0.6096, 'specificity': 0.9904, 'accuracy': 0.9726, 'precision': 0.7561, 'mcc': 0.665, 'micro_auroc': 0.9319, 'valid_mcc': 0.6622, 'train_bce': 0.001, 'valid_bce': 0.1782, 'lr': 0.0003}\n"
     ]
    },
    {
     "data": {
      "text/plain": [
       "[{'sensitivity': 0.6051,\n",
       "  'specificity': 0.9792,\n",
       "  'accuracy': 0.9617,\n",
       "  'precision': 0.5875,\n",
       "  'mcc': 0.5761,\n",
       "  'micro_auroc': 0.9343,\n",
       "  'valid_mcc': 0.5519,\n",
       "  'train_bce': 0.1469,\n",
       "  'valid_bce': 0.0985,\n",
       "  'lr': 0.00084},\n",
       " {'sensitivity': 0.6006,\n",
       "  'specificity': 0.9894,\n",
       "  'accuracy': 0.9712,\n",
       "  'precision': 0.7353,\n",
       "  'mcc': 0.6499,\n",
       "  'micro_auroc': 0.9446,\n",
       "  'valid_mcc': 0.6357,\n",
       "  'train_bce': 0.0663,\n",
       "  'valid_bce': 0.081,\n",
       "  'lr': 0.00138},\n",
       " {'sensitivity': 0.5781,\n",
       "  'specificity': 0.9887,\n",
       "  'accuracy': 0.9695,\n",
       "  'precision': 0.7156,\n",
       "  'mcc': 0.6277,\n",
       "  'micro_auroc': 0.926,\n",
       "  'valid_mcc': 0.6133,\n",
       "  'train_bce': 0.0356,\n",
       "  'valid_bce': 0.1072,\n",
       "  'lr': 0.00192},\n",
       " {'sensitivity': 0.5285,\n",
       "  'specificity': 0.9899,\n",
       "  'accuracy': 0.9684,\n",
       "  'precision': 0.7198,\n",
       "  'mcc': 0.6011,\n",
       "  'micro_auroc': 0.9148,\n",
       "  'valid_mcc': 0.6136,\n",
       "  'train_bce': 0.0332,\n",
       "  'valid_bce': 0.1575,\n",
       "  'lr': 0.00246},\n",
       " {'sensitivity': 0.6216,\n",
       "  'specificity': 0.9822,\n",
       "  'accuracy': 0.9653,\n",
       "  'precision': 0.6311,\n",
       "  'mcc': 0.6082,\n",
       "  'micro_auroc': 0.9228,\n",
       "  'valid_mcc': 0.6341,\n",
       "  'train_bce': 0.0254,\n",
       "  'valid_bce': 0.133,\n",
       "  'lr': 0.003},\n",
       " {'sensitivity': 0.6081,\n",
       "  'specificity': 0.9802,\n",
       "  'accuracy': 0.9628,\n",
       "  'precision': 0.6009,\n",
       "  'mcc': 0.585,\n",
       "  'micro_auroc': 0.9176,\n",
       "  'valid_mcc': 0.6131,\n",
       "  'train_bce': 0.0219,\n",
       "  'valid_bce': 0.108,\n",
       "  'lr': 0.00246},\n",
       " {'sensitivity': 0.6186,\n",
       "  'specificity': 0.9865,\n",
       "  'accuracy': 0.9693,\n",
       "  'precision': 0.6913,\n",
       "  'mcc': 0.638,\n",
       "  'micro_auroc': 0.9263,\n",
       "  'valid_mcc': 0.644,\n",
       "  'train_bce': 0.0157,\n",
       "  'valid_bce': 0.1359,\n",
       "  'lr': 0.00192},\n",
       " {'sensitivity': 0.6276,\n",
       "  'specificity': 0.9865,\n",
       "  'accuracy': 0.9698,\n",
       "  'precision': 0.6955,\n",
       "  'mcc': 0.645,\n",
       "  'micro_auroc': 0.9254,\n",
       "  'valid_mcc': 0.6553,\n",
       "  'train_bce': 0.0062,\n",
       "  'valid_bce': 0.1452,\n",
       "  'lr': 0.00138},\n",
       " {'sensitivity': 0.6171,\n",
       "  'specificity': 0.989,\n",
       "  'accuracy': 0.9716,\n",
       "  'precision': 0.7326,\n",
       "  'mcc': 0.6578,\n",
       "  'micro_auroc': 0.933,\n",
       "  'valid_mcc': 0.6609,\n",
       "  'train_bce': 0.0027,\n",
       "  'valid_bce': 0.1613,\n",
       "  'lr': 0.00084},\n",
       " {'sensitivity': 0.6096,\n",
       "  'specificity': 0.9904,\n",
       "  'accuracy': 0.9726,\n",
       "  'precision': 0.7561,\n",
       "  'mcc': 0.665,\n",
       "  'micro_auroc': 0.9319,\n",
       "  'valid_mcc': 0.6622,\n",
       "  'train_bce': 0.001,\n",
       "  'valid_bce': 0.1782,\n",
       "  'lr': 0.0003}]"
      ]
     },
     "execution_count": 3,
     "metadata": {},
     "output_type": "execute_result"
    }
   ],
   "source": [
    "pipeline.train_until_fit(patience=10, max_epoch=10)"
   ]
  },
  {
   "cell_type": "code",
   "execution_count": 5,
   "metadata": {},
   "outputs": [
    {
     "data": {
      "text/plain": [
       "{'sensitivity': 0.6039,\n",
       " 'specificity': 0.9908,\n",
       " 'accuracy': 0.9732,\n",
       " 'precision': 0.7579,\n",
       " 'mcc': 0.663,\n",
       " 'micro_auroc': 0.9316}"
      ]
     },
     "execution_count": 5,
     "metadata": {},
     "output_type": "execute_result"
    }
   ],
   "source": [
    "from lib.datasets import get_slices, protein_to_slices\n",
    "from lib.utils import dict_tensor_to_num, round_dict\n",
    "\n",
    "dataset = pipeline.dataset\n",
    "\n",
    "from torchdrug import transforms\n",
    "pipeline.dataset.transform = transforms.ProteinView(view='residue')\n",
    "\n",
    "train_set, valid_set, test_set = pipeline.dataset.split()\n",
    "\n",
    "def infer_sliced(pipeline, protein):\n",
    "    GPU = 1\n",
    "    target = protein.target\n",
    "    intermediate_preds = []\n",
    "    sliced_proteins, _ = protein_to_slices(protein, target)\n",
    "    dataloader = data.DataLoader(sliced_proteins, batch_size=1, shuffle=False)\n",
    "    with torch.no_grad():\n",
    "        for batch in dataloader:\n",
    "            batch = utils.cuda(batch, device=torch.device(f'cuda:{GPU}'))\n",
    "            pred = pipeline.task.predict({\"graph\": batch})\n",
    "            intermediate_preds.append(pred)\n",
    "    final_preds = torch.zeros(target.shape)\n",
    "    for i, (start, end) in enumerate(get_slices(target.shape[0])):\n",
    "        final_preds[start:end] += intermediate_preds[i].cpu()\n",
    "        if i > 0:\n",
    "            final_preds[start:start+100] /= 2\n",
    "    return final_preds\n",
    "\n",
    "preds = []\n",
    "targets = []\n",
    "for item in test_set:\n",
    "    pred = infer_sliced(pipeline, item['graph'])\n",
    "    preds.append(pred)\n",
    "\n",
    "    dataloader = data.DataLoader([item], batch_size=1, shuffle=False)    \n",
    "    target = pipeline.task.target(next(iter(dataloader)))\n",
    "    targets.append(target)\n",
    "    \n",
    "pred = utils.cat(preds)\n",
    "target = utils.cat(targets)\n",
    "\n",
    "metric = pipeline.task.evaluate(pred, target)\n",
    "round_dict(dict_tensor_to_num(metric), 4)"
   ]
  },
  {
   "cell_type": "code",
   "execution_count": 6,
   "metadata": {},
   "outputs": [
    {
     "name": "stdout",
     "output_type": "stream",
     "text": [
      "init pipeline, model: esm-t33, dataset: atpbind3d, gpus: [1]\n",
      "load model esm-t33, kwargs: {'gpu': 1, 'freeze_esm': False, 'freeze_layer_count': 30}\n",
      "Initialize Undersampling: all ones\n",
      "Initialize Weighting: all ones\n",
      "train samples: 356, valid samples: 89, test samples: 41\n",
      "Adam parameter: all\n",
      "use cyclic lr scheduler\n",
      "pipeline batch_size: 8\n"
     ]
    }
   ],
   "source": [
    "pipeline = Pipeline(\n",
    "    dataset='atpbind3d',\n",
    "    model='esm-t33',\n",
    "    gpus=[1],\n",
    "    model_kwargs={\n",
    "        'gpu': 1,\n",
    "        'freeze_esm': False,\n",
    "        'freeze_layer_count': 30,  \n",
    "    },\n",
    "    scheduler='cyclic',\n",
    "    scheduler_kwargs={\n",
    "        'base_lr': 3e-4,\n",
    "        'max_lr': 3e-3,\n",
    "        'step_size_up': CYCLE_SIZE / 2,\n",
    "        'step_size_down': CYCLE_SIZE / 2,\n",
    "        'cycle_momentum': False\n",
    "    },\n",
    "    batch_size=8,\n",
    "    max_length=550,\n",
    "    valid_fold_num=1,\n",
    ")"
   ]
  },
  {
   "cell_type": "code",
   "execution_count": 7,
   "metadata": {},
   "outputs": [
    {
     "name": "stdout",
     "output_type": "stream",
     "text": [
      "0m31s {'sensitivity': 0.6113, 'specificity': 0.9767, 'accuracy': 0.9601, 'precision': 0.5553, 'mcc': 0.5617, 'micro_auroc': 0.9359, 'valid_mcc': 0.4853, 'train_bce': 0.1482, 'valid_bce': 0.1034, 'lr': 0.00084}\n",
      "0m31s {'sensitivity': 0.5801, 'specificity': 0.9917, 'accuracy': 0.973, 'precision': 0.7697, 'mcc': 0.6549, 'micro_auroc': 0.9483, 'valid_mcc': 0.564, 'train_bce': 0.0668, 'valid_bce': 0.0914, 'lr': 0.00138}\n",
      "0m32s {'sensitivity': 0.5861, 'specificity': 0.9893, 'accuracy': 0.971, 'precision': 0.7234, 'mcc': 0.6364, 'micro_auroc': 0.9428, 'valid_mcc': 0.5666, 'train_bce': 0.0367, 'valid_bce': 0.1043, 'lr': 0.00192}\n",
      "0m33s {'sensitivity': 0.6588, 'specificity': 0.9871, 'accuracy': 0.9722, 'precision': 0.7093, 'mcc': 0.6691, 'micro_auroc': 0.9412, 'valid_mcc': 0.5934, 'train_bce': 0.0266, 'valid_bce': 0.145, 'lr': 0.00246}\n",
      "0m34s {'sensitivity': 0.549, 'specificity': 0.9907, 'accuracy': 0.9707, 'precision': 0.7385, 'mcc': 0.6222, 'micro_auroc': 0.9146, 'valid_mcc': 0.5462, 'train_bce': 0.0212, 'valid_bce': 0.1243, 'lr': 0.003}\n",
      "0m34s {'sensitivity': 0.5757, 'specificity': 0.991, 'accuracy': 0.9722, 'precision': 0.7534, 'mcc': 0.6447, 'micro_auroc': 0.9151, 'valid_mcc': 0.5613, 'train_bce': 0.0259, 'valid_bce': 0.1555, 'lr': 0.00246}\n",
      "0m34s {'sensitivity': 0.6246, 'specificity': 0.9873, 'accuracy': 0.9708, 'precision': 0.7005, 'mcc': 0.6464, 'micro_auroc': 0.9313, 'valid_mcc': 0.5622, 'train_bce': 0.0186, 'valid_bce': 0.11, 'lr': 0.00192}\n",
      "0m35s {'sensitivity': 0.6172, 'specificity': 0.9876, 'accuracy': 0.9708, 'precision': 0.7039, 'mcc': 0.644, 'micro_auroc': 0.9323, 'valid_mcc': 0.5836, 'train_bce': 0.0111, 'valid_bce': 0.1477, 'lr': 0.00138}\n",
      "0m35s {'sensitivity': 0.6513, 'specificity': 0.9883, 'accuracy': 0.973, 'precision': 0.7268, 'mcc': 0.6741, 'micro_auroc': 0.9279, 'valid_mcc': 0.5891, 'train_bce': 0.0052, 'valid_bce': 0.1595, 'lr': 0.00084}\n",
      "0m35s {'sensitivity': 0.6573, 'specificity': 0.9879, 'accuracy': 0.9728, 'precision': 0.7203, 'mcc': 0.674, 'micro_auroc': 0.9266, 'valid_mcc': 0.5839, 'train_bce': 0.0011, 'valid_bce': 0.1883, 'lr': 0.0003}\n"
     ]
    },
    {
     "data": {
      "text/plain": [
       "{'sensitivity': 0.6558,\n",
       " 'specificity': 0.9881,\n",
       " 'accuracy': 0.973,\n",
       " 'precision': 0.7234,\n",
       " 'mcc': 0.6747,\n",
       " 'micro_auroc': 0.928}"
      ]
     },
     "execution_count": 7,
     "metadata": {},
     "output_type": "execute_result"
    }
   ],
   "source": [
    "pipeline.train_until_fit(patience=10, max_epoch=10)\n",
    "\n",
    "from lib.datasets import get_slices, protein_to_slices\n",
    "from lib.utils import dict_tensor_to_num, round_dict\n",
    "\n",
    "dataset = pipeline.dataset\n",
    "\n",
    "from torchdrug import transforms\n",
    "pipeline.dataset.transform = transforms.ProteinView(view='residue')\n",
    "\n",
    "train_set, valid_set, test_set = pipeline.dataset.split()\n",
    "\n",
    "def infer_sliced(pipeline, protein):\n",
    "    GPU = 1\n",
    "    target = protein.target\n",
    "    intermediate_preds = []\n",
    "    sliced_proteins, _ = protein_to_slices(protein, target)\n",
    "    dataloader = data.DataLoader(sliced_proteins, batch_size=1, shuffle=False)\n",
    "    with torch.no_grad():\n",
    "        for batch in dataloader:\n",
    "            batch = utils.cuda(batch, device=torch.device(f'cuda:{GPU}'))\n",
    "            pred = pipeline.task.predict({\"graph\": batch})\n",
    "            intermediate_preds.append(pred)\n",
    "    final_preds = torch.zeros(target.shape)\n",
    "    for i, (start, end) in enumerate(get_slices(target.shape[0])):\n",
    "        final_preds[start:end] += intermediate_preds[i].cpu()\n",
    "        if i > 0:\n",
    "            final_preds[start:start+100] /= 2\n",
    "    return final_preds\n",
    "\n",
    "preds = []\n",
    "targets = []\n",
    "for item in test_set:\n",
    "    pred = infer_sliced(pipeline, item['graph'])\n",
    "    preds.append(pred)\n",
    "\n",
    "    dataloader = data.DataLoader([item], batch_size=1, shuffle=False)    \n",
    "    target = pipeline.task.target(next(iter(dataloader)))\n",
    "    targets.append(target)\n",
    "    \n",
    "pred = utils.cat(preds)\n",
    "target = utils.cat(targets)\n",
    "\n",
    "metric = pipeline.task.evaluate(pred, target)\n",
    "round_dict(dict_tensor_to_num(metric), 4)"
   ]
  },
  {
   "cell_type": "code",
   "execution_count": 1,
   "metadata": {},
   "outputs": [
    {
     "name": "stdout",
     "output_type": "stream",
     "text": [
      "init pipeline, model: lm-gearnet, dataset: atpbind3d, gpus: [1]\n",
      "load model lm-gearnet, kwargs: {'gpu': 1, 'lm_type': 'esm-t33', 'gearnet_hidden_dim_size': 512, 'gearnet_hidden_dim_count': 4, 'lm_freeze_layer_count': 30}\n",
      "freeze_lm: 30\n",
      "get dataset atpbind3d\n",
      "Initialize Undersampling: all ones\n",
      "Initialize Weighting: all ones\n",
      "train samples: 356, valid samples: 89, test samples: 41\n",
      "Adam parameter: all\n",
      "use cyclic lr scheduler\n",
      "pipeline batch_size: 8\n"
     ]
    }
   ],
   "source": [
    "from lib.pipeline import Pipeline\n",
    "import pandas as pd\n",
    "from torchdrug import utils, data\n",
    "import os\n",
    "import torch\n",
    "import inspect\n",
    "import numpy as np\n",
    "\n",
    "from lib.utils import generate_mean_ensemble_metrics_auto, read_initial_csv, aggregate_pred_dataframe\n",
    "GPU = 1\n",
    "CYCLE_SIZE = 10\n",
    "\n",
    "pipeline = Pipeline(\n",
    "    dataset='atpbind3d',\n",
    "    model='lm-gearnet',\n",
    "    gpus=[GPU],\n",
    "    model_kwargs={\n",
    "        'gpu': GPU,\n",
    "        'lm_type': 'esm-t33',\n",
    "        'gearnet_hidden_dim_size': 512,\n",
    "        'gearnet_hidden_dim_count': 4,\n",
    "        'lm_freeze_layer_count': 30,\n",
    "    },\n",
    "    scheduler='cyclic',\n",
    "    scheduler_kwargs={\n",
    "        'base_lr': 3e-4,\n",
    "        'max_lr': 3e-3,\n",
    "        'step_size_up': CYCLE_SIZE / 2,\n",
    "        'step_size_down': CYCLE_SIZE / 2,\n",
    "        'cycle_momentum': False\n",
    "    },\n",
    "    batch_size=8,\n",
    "    max_length=550,\n",
    "    valid_fold_num=0,\n",
    ")"
   ]
  },
  {
   "cell_type": "code",
   "execution_count": 2,
   "metadata": {},
   "outputs": [
    {
     "name": "stdout",
     "output_type": "stream",
     "text": [
      "1m19s {'sensitivity': 0.5375, 'specificity': 0.9836, 'accuracy': 0.9627, 'precision': 0.6162, 'mcc': 0.5562, 'micro_auroc': 0.872, 'valid_mcc': 0.5164, 'train_bce': 0.159, 'valid_bce': 0.1279, 'lr': 0.00084}\n",
      "0m57s {'sensitivity': 0.6231, 'specificity': 0.9849, 'accuracy': 0.968, 'precision': 0.6694, 'mcc': 0.6291, 'micro_auroc': 0.9314, 'valid_mcc': 0.6223, 'train_bce': 0.0794, 'valid_bce': 0.0946, 'lr': 0.00138}\n",
      "0m57s {'sensitivity': 0.5691, 'specificity': 0.9828, 'accuracy': 0.9634, 'precision': 0.6183, 'mcc': 0.5741, 'micro_auroc': 0.9174, 'valid_mcc': 0.6088, 'train_bce': 0.047, 'valid_bce': 0.1147, 'lr': 0.00192}\n",
      "0m58s {'sensitivity': 0.6276, 'specificity': 0.9864, 'accuracy': 0.9696, 'precision': 0.6932, 'mcc': 0.6438, 'micro_auroc': 0.9379, 'valid_mcc': 0.6223, 'train_bce': 0.0356, 'valid_bce': 0.0974, 'lr': 0.00246}\n",
      "0m59s {'sensitivity': 0.5871, 'specificity': 0.9841, 'accuracy': 0.9655, 'precision': 0.6442, 'mcc': 0.597, 'micro_auroc': 0.9353, 'valid_mcc': 0.6363, 'train_bce': 0.0256, 'valid_bce': 0.1012, 'lr': 0.003}\n",
      "1m0s {'sensitivity': 0.6186, 'specificity': 0.9876, 'accuracy': 0.9704, 'precision': 0.7103, 'mcc': 0.6476, 'micro_auroc': 0.9252, 'valid_mcc': 0.6576, 'train_bce': 0.02, 'valid_bce': 0.124, 'lr': 0.00246}\n",
      "1m2s {'sensitivity': 0.6156, 'specificity': 0.986, 'accuracy': 0.9687, 'precision': 0.6833, 'mcc': 0.6323, 'micro_auroc': 0.9259, 'valid_mcc': 0.6624, 'train_bce': 0.0112, 'valid_bce': 0.1493, 'lr': 0.00192}\n",
      "1m2s {'sensitivity': 0.6231, 'specificity': 0.9881, 'accuracy': 0.971, 'precision': 0.7192, 'mcc': 0.6545, 'micro_auroc': 0.9232, 'valid_mcc': 0.656, 'train_bce': 0.0055, 'valid_bce': 0.1463, 'lr': 0.00138}\n",
      "1m3s {'sensitivity': 0.6321, 'specificity': 0.9898, 'accuracy': 0.9731, 'precision': 0.7531, 'mcc': 0.6762, 'micro_auroc': 0.9298, 'valid_mcc': 0.6618, 'train_bce': 0.0022, 'valid_bce': 0.1549, 'lr': 0.00084}\n",
      "1m3s {'sensitivity': 0.6261, 'specificity': 0.9892, 'accuracy': 0.9722, 'precision': 0.7394, 'mcc': 0.6661, 'micro_auroc': 0.9197, 'valid_mcc': 0.6639, 'train_bce': 0.0007, 'valid_bce': 0.1757, 'lr': 0.0003}\n"
     ]
    },
    {
     "data": {
      "text/plain": [
       "{'sensitivity': 0.6202,\n",
       " 'specificity': 0.9891,\n",
       " 'accuracy': 0.9723,\n",
       " 'precision': 0.7295,\n",
       " 'mcc': 0.6584,\n",
       " 'micro_auroc': 0.9257}"
      ]
     },
     "execution_count": 2,
     "metadata": {},
     "output_type": "execute_result"
    }
   ],
   "source": [
    "pipeline.train_until_fit(patience=10, max_epoch=10)\n",
    "\n",
    "from lib.datasets import get_slices, protein_to_slices\n",
    "from lib.utils import dict_tensor_to_num, round_dict\n",
    "\n",
    "dataset = pipeline.dataset\n",
    "\n",
    "from torchdrug import transforms\n",
    "pipeline.dataset.transform = transforms.ProteinView(view='residue')\n",
    "\n",
    "train_set, valid_set, test_set = pipeline.dataset.split()\n",
    "\n",
    "def infer_sliced(pipeline, protein):\n",
    "    GPU = 1\n",
    "    target = protein.target\n",
    "    intermediate_preds = []\n",
    "    sliced_proteins, _ = protein_to_slices(protein, target)\n",
    "    dataloader = data.DataLoader(sliced_proteins, batch_size=1, shuffle=False)\n",
    "    with torch.no_grad():\n",
    "        for batch in dataloader:\n",
    "            batch = utils.cuda(batch, device=torch.device(f'cuda:{GPU}'))\n",
    "            pred = pipeline.task.predict({\"graph\": batch})\n",
    "            intermediate_preds.append(pred)\n",
    "    final_preds = torch.zeros(target.shape)\n",
    "    for i, (start, end) in enumerate(get_slices(target.shape[0])):\n",
    "        final_preds[start:end] += intermediate_preds[i].cpu()\n",
    "        if i > 0:\n",
    "            final_preds[start:start+100] /= 2\n",
    "    return final_preds\n",
    "\n",
    "preds = []\n",
    "targets = []\n",
    "for item in test_set:\n",
    "    pred = infer_sliced(pipeline, item['graph'])\n",
    "    preds.append(pred)\n",
    "\n",
    "    dataloader = data.DataLoader([item], batch_size=1, shuffle=False)    \n",
    "    target = pipeline.task.target(next(iter(dataloader)))\n",
    "    targets.append(target)\n",
    "    \n",
    "pred = utils.cat(preds)\n",
    "target = utils.cat(targets)\n",
    "\n",
    "metric = pipeline.task.evaluate(pred, target)\n",
    "round_dict(dict_tensor_to_num(metric), 4)"
   ]
  },
  {
   "cell_type": "code",
   "execution_count": 3,
   "metadata": {},
   "outputs": [
    {
     "name": "stdout",
     "output_type": "stream",
     "text": [
      "init pipeline, model: lm-gearnet, dataset: atpbind3d, gpus: [1]\n",
      "load model lm-gearnet, kwargs: {'gpu': 1, 'lm_type': 'esm-t33', 'gearnet_hidden_dim_size': 512, 'gearnet_hidden_dim_count': 4, 'lm_freeze_layer_count': 30}\n",
      "freeze_lm: 30\n",
      "Initialize Undersampling: all ones\n",
      "Initialize Weighting: all ones\n",
      "train samples: 356, valid samples: 89, test samples: 41\n",
      "Adam parameter: all\n",
      "use cyclic lr scheduler\n",
      "pipeline batch_size: 8\n"
     ]
    }
   ],
   "source": [
    "from lib.pipeline import Pipeline\n",
    "import pandas as pd\n",
    "from torchdrug import utils, data\n",
    "import os\n",
    "import torch\n",
    "import inspect\n",
    "import numpy as np\n",
    "\n",
    "from lib.utils import generate_mean_ensemble_metrics_auto, read_initial_csv, aggregate_pred_dataframe\n",
    "GPU = 1\n",
    "CYCLE_SIZE = 10\n",
    "\n",
    "pipeline = Pipeline(\n",
    "    dataset='atpbind3d',\n",
    "    model='lm-gearnet',\n",
    "    gpus=[GPU],\n",
    "    model_kwargs={\n",
    "        'gpu': GPU,\n",
    "        'lm_type': 'esm-t33',\n",
    "        'gearnet_hidden_dim_size': 512,\n",
    "        'gearnet_hidden_dim_count': 4,\n",
    "        'lm_freeze_layer_count': 30,\n",
    "    },\n",
    "    scheduler='cyclic',\n",
    "    scheduler_kwargs={\n",
    "        'base_lr': 3e-4,\n",
    "        'max_lr': 3e-3,\n",
    "        'step_size_up': CYCLE_SIZE / 2,\n",
    "        'step_size_down': CYCLE_SIZE / 2,\n",
    "        'cycle_momentum': False\n",
    "    },\n",
    "    batch_size=8,\n",
    "    max_length=550,\n",
    "    valid_fold_num=1,\n",
    ")"
   ]
  },
  {
   "cell_type": "code",
   "execution_count": 4,
   "metadata": {},
   "outputs": [
    {
     "name": "stdout",
     "output_type": "stream",
     "text": [
      "0m58s {'sensitivity': 0.5193, 'specificity': 0.9863, 'accuracy': 0.9651, 'precision': 0.6434, 'mcc': 0.5602, 'micro_auroc': 0.8991, 'valid_mcc': 0.4685, 'train_bce': 0.1629, 'valid_bce': 0.133, 'lr': 0.00084}\n",
      "0m58s {'sensitivity': 0.6261, 'specificity': 0.983, 'accuracy': 0.9668, 'precision': 0.6375, 'mcc': 0.6144, 'micro_auroc': 0.939, 'valid_mcc': 0.5493, 'train_bce': 0.0809, 'valid_bce': 0.0997, 'lr': 0.00138}\n",
      "0m59s {'sensitivity': 0.5534, 'specificity': 0.9922, 'accuracy': 0.9723, 'precision': 0.7723, 'mcc': 0.6403, 'micro_auroc': 0.9295, 'valid_mcc': 0.5737, 'train_bce': 0.0436, 'valid_bce': 0.1147, 'lr': 0.00192}\n",
      "0m59s {'sensitivity': 0.6187, 'specificity': 0.9898, 'accuracy': 0.9729, 'precision': 0.742, 'mcc': 0.6637, 'micro_auroc': 0.9351, 'valid_mcc': 0.5678, 'train_bce': 0.0294, 'valid_bce': 0.1116, 'lr': 0.00246}\n",
      "1m2s {'sensitivity': 0.5549, 'specificity': 0.9906, 'accuracy': 0.9708, 'precision': 0.7377, 'mcc': 0.6253, 'micro_auroc': 0.9226, 'valid_mcc': 0.5801, 'train_bce': 0.0194, 'valid_bce': 0.1378, 'lr': 0.003}\n",
      "1m3s {'sensitivity': 0.5846, 'specificity': 0.9894, 'accuracy': 0.971, 'precision': 0.7243, 'mcc': 0.636, 'micro_auroc': 0.9252, 'valid_mcc': 0.5876, 'train_bce': 0.0196, 'valid_bce': 0.1223, 'lr': 0.00246}\n",
      "1m3s {'sensitivity': 0.5742, 'specificity': 0.9917, 'accuracy': 0.9727, 'precision': 0.7663, 'mcc': 0.6498, 'micro_auroc': 0.9152, 'valid_mcc': 0.5898, 'train_bce': 0.0107, 'valid_bce': 0.1597, 'lr': 0.00192}\n",
      "1m4s {'sensitivity': 0.6365, 'specificity': 0.9862, 'accuracy': 0.9703, 'precision': 0.6875, 'mcc': 0.6461, 'micro_auroc': 0.9007, 'valid_mcc': 0.5938, 'train_bce': 0.0059, 'valid_bce': 0.1722, 'lr': 0.00138}\n",
      "1m4s {'sensitivity': 0.6113, 'specificity': 0.9901, 'accuracy': 0.9729, 'precision': 0.7464, 'mcc': 0.6617, 'micro_auroc': 0.9114, 'valid_mcc': 0.602, 'train_bce': 0.0028, 'valid_bce': 0.176, 'lr': 0.00084}\n",
      "1m4s {'sensitivity': 0.6424, 'specificity': 0.9891, 'accuracy': 0.9734, 'precision': 0.7376, 'mcc': 0.6747, 'micro_auroc': 0.9192, 'valid_mcc': 0.6032, 'train_bce': 0.0012, 'valid_bce': 0.1864, 'lr': 0.0003}\n"
     ]
    },
    {
     "data": {
      "text/plain": [
       "{'sensitivity': 0.6424,\n",
       " 'specificity': 0.989,\n",
       " 'accuracy': 0.9732,\n",
       " 'precision': 0.7351,\n",
       " 'mcc': 0.6734,\n",
       " 'micro_auroc': 0.9303}"
      ]
     },
     "execution_count": 4,
     "metadata": {},
     "output_type": "execute_result"
    }
   ],
   "source": [
    "pipeline.train_until_fit(patience=10, max_epoch=10)\n",
    "\n",
    "from lib.datasets import get_slices, protein_to_slices\n",
    "from lib.utils import dict_tensor_to_num, round_dict\n",
    "\n",
    "dataset = pipeline.dataset\n",
    "\n",
    "from torchdrug import transforms\n",
    "pipeline.dataset.transform = transforms.ProteinView(view='residue')\n",
    "\n",
    "train_set, valid_set, test_set = pipeline.dataset.split()\n",
    "\n",
    "def infer_sliced(pipeline, protein):\n",
    "    GPU = 1\n",
    "    target = protein.target\n",
    "    intermediate_preds = []\n",
    "    sliced_proteins, _ = protein_to_slices(protein, target)\n",
    "    dataloader = data.DataLoader(sliced_proteins, batch_size=1, shuffle=False)\n",
    "    with torch.no_grad():\n",
    "        for batch in dataloader:\n",
    "            batch = utils.cuda(batch, device=torch.device(f'cuda:{GPU}'))\n",
    "            pred = pipeline.task.predict({\"graph\": batch})\n",
    "            intermediate_preds.append(pred)\n",
    "    final_preds = torch.zeros(target.shape)\n",
    "    for i, (start, end) in enumerate(get_slices(target.shape[0])):\n",
    "        final_preds[start:end] += intermediate_preds[i].cpu()\n",
    "        if i > 0:\n",
    "            final_preds[start:start+100] /= 2\n",
    "    return final_preds\n",
    "\n",
    "preds = []\n",
    "targets = []\n",
    "for item in test_set:\n",
    "    pred = infer_sliced(pipeline, item['graph'])\n",
    "    preds.append(pred)\n",
    "\n",
    "    dataloader = data.DataLoader([item], batch_size=1, shuffle=False)    \n",
    "    target = pipeline.task.target(next(iter(dataloader)))\n",
    "    targets.append(target)\n",
    "    \n",
    "pred = utils.cat(preds)\n",
    "target = utils.cat(targets)\n",
    "\n",
    "metric = pipeline.task.evaluate(pred, target)\n",
    "round_dict(dict_tensor_to_num(metric), 4)"
   ]
  }
 ],
 "metadata": {
  "kernelspec": {
   "display_name": "Python 3",
   "language": "python",
   "name": "python3"
  },
  "language_info": {
   "codemirror_mode": {
    "name": "ipython",
    "version": 3
   },
   "file_extension": ".py",
   "mimetype": "text/x-python",
   "name": "python",
   "nbconvert_exporter": "python",
   "pygments_lexer": "ipython3",
   "version": "3.9.17"
  }
 },
 "nbformat": 4,
 "nbformat_minor": 2
}
